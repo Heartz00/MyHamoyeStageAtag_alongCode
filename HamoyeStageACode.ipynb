{
 "cells": [
  {
   "cell_type": "code",
   "execution_count": 1,
   "id": "9f857dfe-260a-4ba6-a8b4-68f47db21125",
   "metadata": {},
   "outputs": [],
   "source": [
    "import pandas as pd\n",
    "import numpy as np\n",
    "import matplotlib.pyplot as plt\n"
   ]
  },
  {
   "cell_type": "code",
   "execution_count": 2,
   "id": "6f77515b-4682-43d2-96a4-71ffb1dae2aa",
   "metadata": {},
   "outputs": [
    {
     "data": {
      "text/html": [
       "<div>\n",
       "<style scoped>\n",
       "    .dataframe tbody tr th:only-of-type {\n",
       "        vertical-align: middle;\n",
       "    }\n",
       "\n",
       "    .dataframe tbody tr th {\n",
       "        vertical-align: top;\n",
       "    }\n",
       "\n",
       "    .dataframe thead th {\n",
       "        text-align: right;\n",
       "    }\n",
       "</style>\n",
       "<table border=\"1\" class=\"dataframe\">\n",
       "  <thead>\n",
       "    <tr style=\"text-align: right;\">\n",
       "      <th></th>\n",
       "      <th>Area Code</th>\n",
       "      <th>Area</th>\n",
       "      <th>Item Code</th>\n",
       "      <th>Item</th>\n",
       "      <th>Element Code</th>\n",
       "      <th>Element</th>\n",
       "      <th>Unit</th>\n",
       "      <th>Y2014</th>\n",
       "      <th>Y2015</th>\n",
       "      <th>Y2016</th>\n",
       "      <th>Y2017</th>\n",
       "      <th>Y2018</th>\n",
       "    </tr>\n",
       "  </thead>\n",
       "  <tbody>\n",
       "    <tr>\n",
       "      <th>0</th>\n",
       "      <td>4</td>\n",
       "      <td>Algeria</td>\n",
       "      <td>2501</td>\n",
       "      <td>Population</td>\n",
       "      <td>511</td>\n",
       "      <td>Total Population - Both sexes</td>\n",
       "      <td>1000 persons</td>\n",
       "      <td>38924.00</td>\n",
       "      <td>39728.00</td>\n",
       "      <td>40551.00</td>\n",
       "      <td>41389.00</td>\n",
       "      <td>42228.00</td>\n",
       "    </tr>\n",
       "    <tr>\n",
       "      <th>1</th>\n",
       "      <td>4</td>\n",
       "      <td>Algeria</td>\n",
       "      <td>2501</td>\n",
       "      <td>Population</td>\n",
       "      <td>5301</td>\n",
       "      <td>Domestic supply quantity</td>\n",
       "      <td>1000 tonnes</td>\n",
       "      <td>0.00</td>\n",
       "      <td>0.00</td>\n",
       "      <td>0.00</td>\n",
       "      <td>0.00</td>\n",
       "      <td>0.00</td>\n",
       "    </tr>\n",
       "    <tr>\n",
       "      <th>2</th>\n",
       "      <td>4</td>\n",
       "      <td>Algeria</td>\n",
       "      <td>2901</td>\n",
       "      <td>Grand Total</td>\n",
       "      <td>664</td>\n",
       "      <td>Food supply (kcal/capita/day)</td>\n",
       "      <td>kcal/capita/day</td>\n",
       "      <td>3377.00</td>\n",
       "      <td>3379.00</td>\n",
       "      <td>3372.00</td>\n",
       "      <td>3341.00</td>\n",
       "      <td>3322.00</td>\n",
       "    </tr>\n",
       "    <tr>\n",
       "      <th>3</th>\n",
       "      <td>4</td>\n",
       "      <td>Algeria</td>\n",
       "      <td>2901</td>\n",
       "      <td>Grand Total</td>\n",
       "      <td>674</td>\n",
       "      <td>Protein supply quantity (g/capita/day)</td>\n",
       "      <td>g/capita/day</td>\n",
       "      <td>94.90</td>\n",
       "      <td>94.35</td>\n",
       "      <td>94.72</td>\n",
       "      <td>92.82</td>\n",
       "      <td>91.83</td>\n",
       "    </tr>\n",
       "    <tr>\n",
       "      <th>4</th>\n",
       "      <td>4</td>\n",
       "      <td>Algeria</td>\n",
       "      <td>2901</td>\n",
       "      <td>Grand Total</td>\n",
       "      <td>684</td>\n",
       "      <td>Fat supply quantity (g/capita/day)</td>\n",
       "      <td>g/capita/day</td>\n",
       "      <td>80.06</td>\n",
       "      <td>79.36</td>\n",
       "      <td>77.40</td>\n",
       "      <td>80.19</td>\n",
       "      <td>77.28</td>\n",
       "    </tr>\n",
       "  </tbody>\n",
       "</table>\n",
       "</div>"
      ],
      "text/plain": [
       "   Area Code     Area  Item Code         Item  Element Code  \\\n",
       "0          4  Algeria       2501   Population           511   \n",
       "1          4  Algeria       2501   Population          5301   \n",
       "2          4  Algeria       2901  Grand Total           664   \n",
       "3          4  Algeria       2901  Grand Total           674   \n",
       "4          4  Algeria       2901  Grand Total           684   \n",
       "\n",
       "                                  Element             Unit     Y2014  \\\n",
       "0           Total Population - Both sexes     1000 persons  38924.00   \n",
       "1                Domestic supply quantity      1000 tonnes      0.00   \n",
       "2           Food supply (kcal/capita/day)  kcal/capita/day   3377.00   \n",
       "3  Protein supply quantity (g/capita/day)     g/capita/day     94.90   \n",
       "4      Fat supply quantity (g/capita/day)     g/capita/day     80.06   \n",
       "\n",
       "      Y2015     Y2016     Y2017     Y2018  \n",
       "0  39728.00  40551.00  41389.00  42228.00  \n",
       "1      0.00      0.00      0.00      0.00  \n",
       "2   3379.00   3372.00   3341.00   3322.00  \n",
       "3     94.35     94.72     92.82     91.83  \n",
       "4     79.36     77.40     80.19     77.28  "
      ]
     },
     "execution_count": 2,
     "metadata": {},
     "output_type": "execute_result"
    }
   ],
   "source": [
    "df = pd.read_csv('C:/users/DELL/Downloads/FoodBalanceSheets_E_Africa.csv')\n",
    "df.head()"
   ]
  },
  {
   "cell_type": "code",
   "execution_count": 3,
   "id": "cf989d8e-45ae-4184-8bfe-e30c5cc25959",
   "metadata": {},
   "outputs": [
    {
     "data": {
      "text/plain": [
       "(60943, 12)"
      ]
     },
     "execution_count": 3,
     "metadata": {},
     "output_type": "execute_result"
    }
   ],
   "source": [
    "df.shape"
   ]
  },
  {
   "cell_type": "code",
   "execution_count": 4,
   "id": "01b548b5-27e1-4c00-9e30-d698eae70434",
   "metadata": {},
   "outputs": [
    {
     "data": {
      "text/html": [
       "<div>\n",
       "<style scoped>\n",
       "    .dataframe tbody tr th:only-of-type {\n",
       "        vertical-align: middle;\n",
       "    }\n",
       "\n",
       "    .dataframe tbody tr th {\n",
       "        vertical-align: top;\n",
       "    }\n",
       "\n",
       "    .dataframe thead th {\n",
       "        text-align: right;\n",
       "    }\n",
       "</style>\n",
       "<table border=\"1\" class=\"dataframe\">\n",
       "  <thead>\n",
       "    <tr style=\"text-align: right;\">\n",
       "      <th></th>\n",
       "      <th>Area Code</th>\n",
       "      <th>Item Code</th>\n",
       "      <th>Element Code</th>\n",
       "      <th>Y2014</th>\n",
       "      <th>Y2015</th>\n",
       "      <th>Y2016</th>\n",
       "      <th>Y2017</th>\n",
       "      <th>Y2018</th>\n",
       "    </tr>\n",
       "  </thead>\n",
       "  <tbody>\n",
       "    <tr>\n",
       "      <th>count</th>\n",
       "      <td>60943.000000</td>\n",
       "      <td>60943.000000</td>\n",
       "      <td>60943.000000</td>\n",
       "      <td>59354.000000</td>\n",
       "      <td>59395.000000</td>\n",
       "      <td>59408.000000</td>\n",
       "      <td>59437.000000</td>\n",
       "      <td>59507.000000</td>\n",
       "    </tr>\n",
       "    <tr>\n",
       "      <th>mean</th>\n",
       "      <td>134.265576</td>\n",
       "      <td>2687.176706</td>\n",
       "      <td>3814.856456</td>\n",
       "      <td>134.196282</td>\n",
       "      <td>135.235966</td>\n",
       "      <td>136.555222</td>\n",
       "      <td>140.917765</td>\n",
       "      <td>143.758381</td>\n",
       "    </tr>\n",
       "    <tr>\n",
       "      <th>std</th>\n",
       "      <td>72.605709</td>\n",
       "      <td>146.055739</td>\n",
       "      <td>2212.007033</td>\n",
       "      <td>1567.663696</td>\n",
       "      <td>1603.403984</td>\n",
       "      <td>1640.007194</td>\n",
       "      <td>1671.862359</td>\n",
       "      <td>1710.782658</td>\n",
       "    </tr>\n",
       "    <tr>\n",
       "      <th>min</th>\n",
       "      <td>4.000000</td>\n",
       "      <td>2501.000000</td>\n",
       "      <td>511.000000</td>\n",
       "      <td>-1796.000000</td>\n",
       "      <td>-3161.000000</td>\n",
       "      <td>-3225.000000</td>\n",
       "      <td>-1582.000000</td>\n",
       "      <td>-3396.000000</td>\n",
       "    </tr>\n",
       "    <tr>\n",
       "      <th>25%</th>\n",
       "      <td>74.000000</td>\n",
       "      <td>2562.000000</td>\n",
       "      <td>684.000000</td>\n",
       "      <td>0.000000</td>\n",
       "      <td>0.000000</td>\n",
       "      <td>0.000000</td>\n",
       "      <td>0.000000</td>\n",
       "      <td>0.000000</td>\n",
       "    </tr>\n",
       "    <tr>\n",
       "      <th>50%</th>\n",
       "      <td>136.000000</td>\n",
       "      <td>2630.000000</td>\n",
       "      <td>5142.000000</td>\n",
       "      <td>0.090000</td>\n",
       "      <td>0.080000</td>\n",
       "      <td>0.080000</td>\n",
       "      <td>0.100000</td>\n",
       "      <td>0.070000</td>\n",
       "    </tr>\n",
       "    <tr>\n",
       "      <th>75%</th>\n",
       "      <td>195.000000</td>\n",
       "      <td>2775.000000</td>\n",
       "      <td>5511.000000</td>\n",
       "      <td>8.340000</td>\n",
       "      <td>8.460000</td>\n",
       "      <td>8.430000</td>\n",
       "      <td>9.000000</td>\n",
       "      <td>9.000000</td>\n",
       "    </tr>\n",
       "    <tr>\n",
       "      <th>max</th>\n",
       "      <td>276.000000</td>\n",
       "      <td>2961.000000</td>\n",
       "      <td>5911.000000</td>\n",
       "      <td>176405.000000</td>\n",
       "      <td>181137.000000</td>\n",
       "      <td>185960.000000</td>\n",
       "      <td>190873.000000</td>\n",
       "      <td>195875.000000</td>\n",
       "    </tr>\n",
       "  </tbody>\n",
       "</table>\n",
       "</div>"
      ],
      "text/plain": [
       "          Area Code     Item Code  Element Code          Y2014          Y2015  \\\n",
       "count  60943.000000  60943.000000  60943.000000   59354.000000   59395.000000   \n",
       "mean     134.265576   2687.176706   3814.856456     134.196282     135.235966   \n",
       "std       72.605709    146.055739   2212.007033    1567.663696    1603.403984   \n",
       "min        4.000000   2501.000000    511.000000   -1796.000000   -3161.000000   \n",
       "25%       74.000000   2562.000000    684.000000       0.000000       0.000000   \n",
       "50%      136.000000   2630.000000   5142.000000       0.090000       0.080000   \n",
       "75%      195.000000   2775.000000   5511.000000       8.340000       8.460000   \n",
       "max      276.000000   2961.000000   5911.000000  176405.000000  181137.000000   \n",
       "\n",
       "               Y2016          Y2017          Y2018  \n",
       "count   59408.000000   59437.000000   59507.000000  \n",
       "mean      136.555222     140.917765     143.758381  \n",
       "std      1640.007194    1671.862359    1710.782658  \n",
       "min     -3225.000000   -1582.000000   -3396.000000  \n",
       "25%         0.000000       0.000000       0.000000  \n",
       "50%         0.080000       0.100000       0.070000  \n",
       "75%         8.430000       9.000000       9.000000  \n",
       "max    185960.000000  190873.000000  195875.000000  "
      ]
     },
     "execution_count": 4,
     "metadata": {},
     "output_type": "execute_result"
    }
   ],
   "source": [
    "df.describe()"
   ]
  },
  {
   "cell_type": "markdown",
   "id": "b67b090e-23d1-4865-8058-66e79831a26d",
   "metadata": {},
   "source": [
    "### Question 11 : What is the total sum of Animal Fat produced in 2014 and 2017 respectively?"
   ]
  },
  {
   "cell_type": "code",
   "execution_count": 93,
   "id": "9555edde-53c0-4d82-95f5-8fc781dff3a3",
   "metadata": {},
   "outputs": [
    {
     "name": "stdout",
     "output_type": "stream",
     "text": [
      "Animal fats total in year 2014 and 2017 respectively : \n",
      "Y2014    209460.54\n",
      "Y2017    269617.53\n",
      "Name: Animal fats, dtype: float64\n"
     ]
    },
    {
     "name": "stderr",
     "output_type": "stream",
     "text": [
      "C:\\Users\\DELL\\AppData\\Local\\Temp\\ipykernel_2248\\1314215189.py:1: FutureWarning: Indexing with multiple keys (implicitly converted to a tuple of keys) will be deprecated, use a list instead.\n",
      "  df_fats = df.groupby('Item')['Y2014', 'Y2017'].sum()\n"
     ]
    }
   ],
   "source": [
    "df_fats = df.groupby('Item')['Y2014', 'Y2017'].sum()\n",
    "print('Animal fats total in year 2014 and 2017 respectively : \\n{}'.format(df_fats.loc[\"Animal fats\"]))\n"
   ]
  },
  {
   "cell_type": "markdown",
   "id": "0ecd8a30-27dd-4e6c-97a8-d28784dddc4f",
   "metadata": {},
   "source": [
    "### Question 12 : What is the mean and standard deviation across the whole dataset for the year 2015 to 3 decimal places?"
   ]
  },
  {
   "cell_type": "code",
   "execution_count": 70,
   "id": "32a86bee-5683-4f41-bde0-9393dde53c2e",
   "metadata": {},
   "outputs": [
    {
     "name": "stdout",
     "output_type": "stream",
     "text": [
      "Year 2015 \n",
      "mean : 135.236 \n",
      "standard deviation : 1603.404\n"
     ]
    }
   ],
   "source": [
    "df_2015 = df['Y2015'].describe()\n",
    "print('Year 2015 \\nmean : {:.3f} \\nstandard deviation : {:.3f}'.format(df_2015.loc['mean'],df_2015.loc['std'] ))"
   ]
  },
  {
   "cell_type": "markdown",
   "id": "6284c966-b152-4ef1-842e-6edbf6f0195b",
   "metadata": {},
   "source": [
    "### Question 13: What is the total number and percentage of missing data in 2016 to 2 decimal places?"
   ]
  },
  {
   "cell_type": "code",
   "execution_count": 69,
   "id": "cca7a05f-6ba6-4b35-b417-d28967e4021d",
   "metadata": {},
   "outputs": [
    {
     "name": "stdout",
     "output_type": "stream",
     "text": [
      " Total number and percentage of missing data in 2016 : \n",
      " total - 1535 \n",
      " percentage- 2.52 \n"
     ]
    }
   ],
   "source": [
    "total =df.isnull().sum()['Y2016']\n",
    "per = ((df.isnull().sum()['Y2016'])/df.shape[0])*100\n",
    "print(' Total number and percentage of missing data in 2016 : \\n total - {} \\n percentage- {:.2f} '.format(total, per))"
   ]
  },
  {
   "cell_type": "markdown",
   "id": "5bc807ad-2533-4cc9-be82-b748a9c47d48",
   "metadata": {},
   "source": [
    "### Question 14: Which year had the highest correlation with ‘Element Code’? "
   ]
  },
  {
   "cell_type": "code",
   "execution_count": 92,
   "id": "f7806248-d1c1-4534-823c-61203ff4ab18",
   "metadata": {},
   "outputs": [
    {
     "name": "stdout",
     "output_type": "stream",
     "text": [
      "Element Code    1.000000\n",
      "Y2014           0.024457\n",
      "Y2018           0.024279\n",
      "Y2017           0.024254\n",
      "Y2015           0.023889\n",
      "Y2016           0.023444\n",
      "Area Code      -0.000209\n",
      "Item Code      -0.024683\n",
      "Name: Element Code, dtype: float64\n",
      "\n",
      "Year 2014 is the year with the highest correlation with Element Code\n"
     ]
    }
   ],
   "source": [
    "print(df.corr()['Element Code'].sort_values(ascending=False))\n",
    "print(\"\\nYear 2014 is the year with the highest correlation with Element Code\")"
   ]
  },
  {
   "cell_type": "markdown",
   "id": "fb608158-549e-4bfb-8ede-e9ec37a81f6a",
   "metadata": {},
   "source": [
    "### Question 15: What year has the highest sum of Import Quantity?"
   ]
  },
  {
   "cell_type": "code",
   "execution_count": 67,
   "id": "28659bb6-9f4e-4b21-bd8f-76c9e7abde09",
   "metadata": {},
   "outputs": [
    {
     "name": "stdout",
     "output_type": "stream",
     "text": [
      "Y2017    294559.09\n",
      "Y2018    287997.09\n",
      "Y2016    286582.78\n",
      "Y2014    274144.48\n",
      "Y2015    267018.46\n",
      "Name: Import Quantity, dtype: float64\n",
      "\n",
      "Answer = 2017\n"
     ]
    }
   ],
   "source": [
    "dff = df.groupby('Element')[['Y2014', 'Y2015', 'Y2016', 'Y2017', 'Y2018']].sum()\n",
    "print(dff.loc['Import Quantity'].sort_values(ascending=False))\n",
    "print ('\\nAnswer = 2017')"
   ]
  },
  {
   "cell_type": "markdown",
   "id": "1fc83732-a48a-48aa-9453-e2006c1d8c60",
   "metadata": {},
   "source": [
    "### Question 16: What is the total number of the sum of Production in 2014?"
   ]
  },
  {
   "cell_type": "code",
   "execution_count": 76,
   "id": "68423c27-7af8-486f-9317-85bbedfcc2d6",
   "metadata": {},
   "outputs": [
    {
     "data": {
      "text/plain": [
       "Element\n",
       "Production    1931287.75\n",
       "Name: Y2014, dtype: float64"
      ]
     },
     "execution_count": 76,
     "metadata": {},
     "output_type": "execute_result"
    }
   ],
   "source": [
    "dfff = df.groupby('Element')['Y2014'].sum()\n",
    "dfff.loc[['Production']]"
   ]
  },
  {
   "cell_type": "markdown",
   "id": "ad22fed7-7235-4f19-8b2a-55f211abf734",
   "metadata": {},
   "source": [
    "### Question 17 : Which of these elements had the highest sum in 2018?"
   ]
  },
  {
   "cell_type": "code",
   "execution_count": 78,
   "id": "bfdb5120-d0b7-43b9-9967-dba61ce1becd",
   "metadata": {},
   "outputs": [
    {
     "name": "stdout",
     "output_type": "stream",
     "text": [
      "                                             Y2018\n",
      "Element                                           \n",
      "Domestic supply quantity                2161192.10\n",
      "Production                              2075072.89\n",
      "Food                                    1303841.28\n",
      "Total Population - Both sexes           1140605.00\n",
      "Food supply (kcal/capita/day)            455261.00\n",
      "Processing                               308429.00\n",
      "Import Quantity                          287997.09\n",
      "Feed                                     233489.68\n",
      "Export Quantity                          181594.80\n",
      "Losses                                   163902.00\n",
      "Other uses (non-food)                     91300.97\n",
      "Food supply quantity (kg/capita/yr)       49056.85\n",
      "Residuals                                 34864.00\n",
      "Seed                                      25263.14\n",
      "Stock Variation                           20577.91\n",
      "Protein supply quantity (g/capita/day)    11833.56\n",
      "Fat supply quantity (g/capita/day)        10258.69\n",
      "Tourist consumption                          90.00\n"
     ]
    }
   ],
   "source": [
    "dfff = df.groupby('Element')[['Y2018']].sum()\n",
    "print(dfff.sort_values('Y2018', ascending=False))"
   ]
  },
  {
   "cell_type": "markdown",
   "id": "2b6fc2bd-361a-437d-8a77-66505cb1728a",
   "metadata": {},
   "source": [
    "### Question 18: Which of these elements had the 3rd lowest sum in 2018?"
   ]
  },
  {
   "cell_type": "code",
   "execution_count": 80,
   "id": "d8999612-0dd7-42d4-a4d7-ca1e1d2f91b8",
   "metadata": {},
   "outputs": [
    {
     "name": "stdout",
     "output_type": "stream",
     "text": [
      "                                             Y2018\n",
      "Element                                           \n",
      "Tourist consumption                          90.00\n",
      "Fat supply quantity (g/capita/day)        10258.69\n",
      "Protein supply quantity (g/capita/day)    11833.56\n",
      "Stock Variation                           20577.91\n",
      "Seed                                      25263.14\n",
      "Residuals                                 34864.00\n",
      "Food supply quantity (kg/capita/yr)       49056.85\n",
      "Other uses (non-food)                     91300.97\n",
      "Losses                                   163902.00\n",
      "Export Quantity                          181594.80\n",
      "Feed                                     233489.68\n",
      "Import Quantity                          287997.09\n",
      "Processing                               308429.00\n",
      "Food supply (kcal/capita/day)            455261.00\n",
      "Total Population - Both sexes           1140605.00\n",
      "Food                                    1303841.28\n",
      "Production                              2075072.89\n",
      "Domestic supply quantity                2161192.10\n"
     ]
    }
   ],
   "source": [
    "dfff = df.groupby('Element')[['Y2018']].sum()\n",
    "print(dfff.sort_values('Y2018'))"
   ]
  },
  {
   "cell_type": "markdown",
   "id": "af685ac3-c2b7-48e5-ba05-967e67b64a6d",
   "metadata": {},
   "source": [
    "### Question 19: What is the total Import Quantity in Algeria in 2018?"
   ]
  },
  {
   "cell_type": "code",
   "execution_count": 90,
   "id": "545735bd-8e59-4741-853f-0c4b98fa6244",
   "metadata": {},
   "outputs": [
    {
     "data": {
      "text/html": [
       "<div>\n",
       "<style scoped>\n",
       "    .dataframe tbody tr th:only-of-type {\n",
       "        vertical-align: middle;\n",
       "    }\n",
       "\n",
       "    .dataframe tbody tr th {\n",
       "        vertical-align: top;\n",
       "    }\n",
       "\n",
       "    .dataframe thead th {\n",
       "        text-align: right;\n",
       "    }\n",
       "</style>\n",
       "<table border=\"1\" class=\"dataframe\">\n",
       "  <thead>\n",
       "    <tr style=\"text-align: right;\">\n",
       "      <th></th>\n",
       "      <th>Y2018</th>\n",
       "    </tr>\n",
       "    <tr>\n",
       "      <th>Element</th>\n",
       "      <th></th>\n",
       "    </tr>\n",
       "  </thead>\n",
       "  <tbody>\n",
       "    <tr>\n",
       "      <th>Import Quantity</th>\n",
       "      <td>36238.29</td>\n",
       "    </tr>\n",
       "  </tbody>\n",
       "</table>\n",
       "</div>"
      ],
      "text/plain": [
       "                    Y2018\n",
       "Element                  \n",
       "Import Quantity  36238.29"
      ]
     },
     "execution_count": 90,
     "metadata": {},
     "output_type": "execute_result"
    }
   ],
   "source": [
    "dfff = df.loc[df['Area']=='Algeria'].groupby('Element')[['Y2018']].sum()\n",
    "dfff.loc[['Import Quantity']]"
   ]
  },
  {
   "cell_type": "markdown",
   "id": "edf7262c-fdb3-4453-a41d-d34951ca1d43",
   "metadata": {},
   "source": [
    "### Question 20:  What is the total number of unique countries in the dataset?"
   ]
  },
  {
   "cell_type": "code",
   "execution_count": 91,
   "id": "0c25a900-d3be-4d9b-bfa7-310aaef5ed12",
   "metadata": {},
   "outputs": [
    {
     "data": {
      "text/plain": [
       "count     60943\n",
       "unique       49\n",
       "top       Kenya\n",
       "freq       1560\n",
       "Name: Area, dtype: object"
      ]
     },
     "execution_count": 91,
     "metadata": {},
     "output_type": "execute_result"
    }
   ],
   "source": [
    "df.Area.describe()"
   ]
  }
 ],
 "metadata": {
  "kernelspec": {
   "display_name": "Python 3 (ipykernel)",
   "language": "python",
   "name": "python3"
  },
  "language_info": {
   "codemirror_mode": {
    "name": "ipython",
    "version": 3
   },
   "file_extension": ".py",
   "mimetype": "text/x-python",
   "name": "python",
   "nbconvert_exporter": "python",
   "pygments_lexer": "ipython3",
   "version": "3.9.12"
  }
 },
 "nbformat": 4,
 "nbformat_minor": 5
}
